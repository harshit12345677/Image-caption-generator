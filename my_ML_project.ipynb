{
  "nbformat": 4,
  "nbformat_minor": 0,
  "metadata": {
    "colab": {
      "name": "my_ML_project.ipynb",
      "provenance": [],
      "collapsed_sections": []
    },
    "kernelspec": {
      "name": "python3",
      "display_name": "Python 3"
    }
  },
  "cells": [
    {
      "cell_type": "code",
      "metadata": {
        "id": "Q4M36pwxDuTO"
      },
      "source": [
        "from os import listdir\r\n",
        "from pickle import dump\r\n",
        "from keras.applications.vgg16 import VGG16\r\n",
        "from keras.preprocessing.image import load_img\r\n",
        "from keras.preprocessing.image import img_to_array\r\n",
        "from keras.applications.vgg16 import preprocess_input\r\n",
        "from keras.models import Model\r\n",
        "\r\n",
        "# extract features from each photo in the directory\r\n",
        "def extract_features(directory):\r\n",
        "\t# load the model\r\n",
        "\tmodel = VGG16()\r\n",
        "\t# re-structure the model\r\n",
        "\tmodel.layers.pop()\r\n",
        "\tmodel = Model(inputs=model.inputs, outputs=model.layers[-1].output)\r\n",
        "\t# summarize\r\n",
        "\tprint(model.summary())\r\n",
        "\t# extract features from each photo\r\n",
        "\tfeatures = dict()\r\n",
        "\tfor name in listdir(directory):\r\n",
        "\t\t# load an image from file\r\n",
        "\t\tfilename = directory + '/' + name\r\n",
        "\t\timage = load_img(filename, target_size=(224, 224))\r\n",
        "\t\t# convert the image pixels to a numpy array\r\n",
        "\t\timage = img_to_array(image)\r\n",
        "\t\t# reshape data for the model\r\n",
        "\t\timage = image.reshape((1, image.shape[0], image.shape[1], image.shape[2]))\r\n",
        "\t\t# prepare the image for the VGG model\r\n",
        "\t\timage = preprocess_input(image)\r\n",
        "\t\t# get features\r\n",
        "\t\tfeature = model.predict(image, verbose=0)\r\n",
        "\t\t# get image id\r\n",
        "\t\timage_id = name.split('.')[0]\r\n",
        "\t\t# store feature\r\n",
        "\t\tfeatures[image_id] = feature\r\n",
        "\t\tprint('>%s' % name)\r\n",
        "\treturn features\r\n"
      ],
      "execution_count": 21,
      "outputs": []
    },
    {
      "cell_type": "code",
      "metadata": {
        "colab": {
          "base_uri": "https://localhost:8080/"
        },
        "id": "VzE8ATJlFJvm",
        "outputId": "4fafae28-ecfc-4a46-8df0-081e8b18edd2"
      },
      "source": [
        "from google.colab import drive\r\n",
        "drive.mount('/content/gdrive')\r\n",
        "\r\n",
        "directory = '/content/gdrive/MyDrive'\r\n",
        "print(listdir(directory))"
      ],
      "execution_count": 22,
      "outputs": [
        {
          "output_type": "stream",
          "text": [
            "Drive already mounted at /content/gdrive; to attempt to forcibly remount, call drive.mount(\"/content/gdrive\", force_remount=True).\n",
            "['image.jpg', 'scanned_20140908-1806.pdf', '20141011215353.jpg', '12145493731.jpg', 'WhatsTools', 'DHBVN.pdf', '2018-MAINS-8-ACEG.pdf', 'Haryana Staff Selection Commission, Government of Haryana (1).pdf', 'Haryana Staff Selection Commission, Government of Haryana.pdf', 'Vidyamandir Classes', 'Classroom', 'VID_20180629_221627.mp4', 'CSAB 2018: Locked Choices of the Roll Number- 15800521.pdf', 'Grassington North Yorkshire.lxk', 'Read Me.txt', 'Proteus 8.3 SP2 Pro Setup.exe', 'Worskhops', 'Colab Notebooks', '1. Running Python Code - The Next Level IPython and Jupyter Notebook.vtt', '3. Introduction to Pandas - Basic Operations.vtt', '3.1 pandas powerful Python data analysis toolkit.html', '4. Notebook - Introduction to Pandas.html', '3. Introduction to Pandas - Basic Operations.mp4', '5. Handling Files with Pandas - TXT, CSV, JSON, XLSX.vtt', '1. Running Python Code - The Next Level IPython and Jupyter Notebook.mp4', '5.1 Employees.csv.csv', '5.2 Employees2.txt.txt', '5.3 Employees.xlsx.xlsx', '5.4 Employees.json.json', '5.5 Employees.txt.txt', '6. Notebook - Handling TXT, CSV, JSON, XLSX Files with Pandas.html', '7. Reading HTML Content from URLs and HTML Files with Pandas.vtt', '7.1 Pandas - HTML.html', '8. Notebook - Reading HTML Content with Pandas.html', '7. Reading HTML Content from URLs and HTML Files with Pandas.mp4', '9. Indexing and Slicing Tables with Pandas.vtt', '5. Handling Files with Pandas - TXT, CSV, JSON, XLSX.mp4', '10. Notebook - Indexing and Slicing Tables with Pandas.html', '11. Adding, Updating, Deleting Table Rows and Columns.vtt', '12. Notebook - Adding, Updating, Deleting Table Rows and Columns.html', '9. Indexing and Slicing Tables with Pandas.mp4', '13. APPLICATION - Reading and Writing Data in PostgreSQL Databases Using Pandas.vtt', '11. Adding, Updating, Deleting Table Rows and Columns.mp4', '13.1 SQLAlchemy Core.html', '13.2 pandas.DataFrame.to_html.html', '14. Download the Code - SQL Data Analysis Application.html', '14.1 my_employees.json.json', '14.2 PandasApp.py.py', '13. APPLICATION - Reading and Writing Data in PostgreSQL Databases Using Pandas.mp4', '2. Notebook - IPython and Jupyter Notebook.html', '15. Automate Data Analysis with Python 3 - Quiz.html', '14.5 my_employees.xlsx.xlsx', '14.4 my_employees.csv.csv', '14.3 my_employees.txt.txt', '1. Criteria used for Analysing Sorts.srt', '2. Bubble Sort.srt', 'tokenizer.pkl', 'model_9.h5', 'Flickr8k_text.zip', 'Flickr8k_Dataset.zip', 'file.jpg', 'final_resume (2) (1).pdf', 'final_resume (2).pdf', 'final_resume.pdf', 'final_resume (1).pdf', 'Undertaking form_Hostels Residents_B.Tech.-converted-converted.pdf', 'Flicker8k_Dataset', 'Flickr_text', 'my_features.pkl']\n"
          ],
          "name": "stdout"
        }
      ]
    },
    {
      "cell_type": "code",
      "metadata": {
        "colab": {
          "base_uri": "https://localhost:8080/",
          "height": 404
        },
        "id": "7ThF-3SLFXG8",
        "outputId": "1ceff550-7bdc-466f-aac4-2e375cdca966"
      },
      "source": [
        "directory = '/content/gdrive/MyDrive/Flicker8k_Dataset'\r\n",
        "features = extract_features(directory)\r\n",
        "print('Extracted Features: %d' % len(features))\r\n",
        "# save to file\r\n",
        "dump(features, open('my_features.pkl', 'wb'))"
      ],
      "execution_count": 3,
      "outputs": [
        {
          "output_type": "stream",
          "text": [
            "Downloading data from https://storage.googleapis.com/tensorflow/keras-applications/vgg16/vgg16_weights_tf_dim_ordering_tf_kernels.h5\n",
            " 78823424/553467096 [===>..........................] - ETA: 4s"
          ],
          "name": "stdout"
        },
        {
          "output_type": "error",
          "ename": "KeyboardInterrupt",
          "evalue": "ignored",
          "traceback": [
            "\u001b[0;31m---------------------------------------------------------------------------\u001b[0m",
            "\u001b[0;31mKeyboardInterrupt\u001b[0m                         Traceback (most recent call last)",
            "\u001b[0;32m<ipython-input-3-dde1e6736f3c>\u001b[0m in \u001b[0;36m<module>\u001b[0;34m()\u001b[0m\n\u001b[1;32m      1\u001b[0m \u001b[0mdirectory\u001b[0m \u001b[0;34m=\u001b[0m \u001b[0;34m'/content/gdrive/MyDrive/Flicker8k_Dataset'\u001b[0m\u001b[0;34m\u001b[0m\u001b[0;34m\u001b[0m\u001b[0m\n\u001b[0;32m----> 2\u001b[0;31m \u001b[0mfeatures\u001b[0m \u001b[0;34m=\u001b[0m \u001b[0mextract_features\u001b[0m\u001b[0;34m(\u001b[0m\u001b[0mdirectory\u001b[0m\u001b[0;34m)\u001b[0m\u001b[0;34m\u001b[0m\u001b[0;34m\u001b[0m\u001b[0m\n\u001b[0m\u001b[1;32m      3\u001b[0m \u001b[0mprint\u001b[0m\u001b[0;34m(\u001b[0m\u001b[0;34m'Extracted Features: %d'\u001b[0m \u001b[0;34m%\u001b[0m \u001b[0mlen\u001b[0m\u001b[0;34m(\u001b[0m\u001b[0mfeatures\u001b[0m\u001b[0;34m)\u001b[0m\u001b[0;34m)\u001b[0m\u001b[0;34m\u001b[0m\u001b[0;34m\u001b[0m\u001b[0m\n\u001b[1;32m      4\u001b[0m \u001b[0;31m# save to file\u001b[0m\u001b[0;34m\u001b[0m\u001b[0;34m\u001b[0m\u001b[0;34m\u001b[0m\u001b[0m\n\u001b[1;32m      5\u001b[0m \u001b[0mdump\u001b[0m\u001b[0;34m(\u001b[0m\u001b[0mfeatures\u001b[0m\u001b[0;34m,\u001b[0m \u001b[0mopen\u001b[0m\u001b[0;34m(\u001b[0m\u001b[0;34m'my_features.pkl'\u001b[0m\u001b[0;34m,\u001b[0m \u001b[0;34m'wb'\u001b[0m\u001b[0;34m)\u001b[0m\u001b[0;34m)\u001b[0m\u001b[0;34m\u001b[0m\u001b[0;34m\u001b[0m\u001b[0m\n",
            "\u001b[0;32m<ipython-input-1-3c52222455be>\u001b[0m in \u001b[0;36mextract_features\u001b[0;34m(directory)\u001b[0m\n\u001b[1;32m     10\u001b[0m \u001b[0;32mdef\u001b[0m \u001b[0mextract_features\u001b[0m\u001b[0;34m(\u001b[0m\u001b[0mdirectory\u001b[0m\u001b[0;34m)\u001b[0m\u001b[0;34m:\u001b[0m\u001b[0;34m\u001b[0m\u001b[0;34m\u001b[0m\u001b[0m\n\u001b[1;32m     11\u001b[0m         \u001b[0;31m# load the model\u001b[0m\u001b[0;34m\u001b[0m\u001b[0;34m\u001b[0m\u001b[0;34m\u001b[0m\u001b[0m\n\u001b[0;32m---> 12\u001b[0;31m         \u001b[0mmodel\u001b[0m \u001b[0;34m=\u001b[0m \u001b[0mVGG16\u001b[0m\u001b[0;34m(\u001b[0m\u001b[0;34m)\u001b[0m\u001b[0;34m\u001b[0m\u001b[0;34m\u001b[0m\u001b[0m\n\u001b[0m\u001b[1;32m     13\u001b[0m         \u001b[0;31m# re-structure the model\u001b[0m\u001b[0;34m\u001b[0m\u001b[0;34m\u001b[0m\u001b[0;34m\u001b[0m\u001b[0m\n\u001b[1;32m     14\u001b[0m         \u001b[0mmodel\u001b[0m\u001b[0;34m.\u001b[0m\u001b[0mlayers\u001b[0m\u001b[0;34m.\u001b[0m\u001b[0mpop\u001b[0m\u001b[0;34m(\u001b[0m\u001b[0;34m)\u001b[0m\u001b[0;34m\u001b[0m\u001b[0;34m\u001b[0m\u001b[0m\n",
            "\u001b[0;32m/usr/local/lib/python3.6/dist-packages/tensorflow/python/keras/applications/vgg16.py\u001b[0m in \u001b[0;36mVGG16\u001b[0;34m(include_top, weights, input_tensor, input_shape, pooling, classes, classifier_activation)\u001b[0m\n\u001b[1;32m    213\u001b[0m           \u001b[0mWEIGHTS_PATH\u001b[0m\u001b[0;34m,\u001b[0m\u001b[0;34m\u001b[0m\u001b[0;34m\u001b[0m\u001b[0m\n\u001b[1;32m    214\u001b[0m           \u001b[0mcache_subdir\u001b[0m\u001b[0;34m=\u001b[0m\u001b[0;34m'models'\u001b[0m\u001b[0;34m,\u001b[0m\u001b[0;34m\u001b[0m\u001b[0;34m\u001b[0m\u001b[0m\n\u001b[0;32m--> 215\u001b[0;31m           file_hash='64373286793e3c8b2b4e3219cbf3544b')\n\u001b[0m\u001b[1;32m    216\u001b[0m     \u001b[0;32melse\u001b[0m\u001b[0;34m:\u001b[0m\u001b[0;34m\u001b[0m\u001b[0;34m\u001b[0m\u001b[0m\n\u001b[1;32m    217\u001b[0m       weights_path = data_utils.get_file(\n",
            "\u001b[0;32m/usr/local/lib/python3.6/dist-packages/tensorflow/python/keras/utils/data_utils.py\u001b[0m in \u001b[0;36mget_file\u001b[0;34m(fname, origin, untar, md5_hash, file_hash, cache_subdir, hash_algorithm, extract, archive_format, cache_dir)\u001b[0m\n\u001b[1;32m    273\u001b[0m     \u001b[0;32mtry\u001b[0m\u001b[0;34m:\u001b[0m\u001b[0;34m\u001b[0m\u001b[0;34m\u001b[0m\u001b[0m\n\u001b[1;32m    274\u001b[0m       \u001b[0;32mtry\u001b[0m\u001b[0;34m:\u001b[0m\u001b[0;34m\u001b[0m\u001b[0;34m\u001b[0m\u001b[0m\n\u001b[0;32m--> 275\u001b[0;31m         \u001b[0murlretrieve\u001b[0m\u001b[0;34m(\u001b[0m\u001b[0morigin\u001b[0m\u001b[0;34m,\u001b[0m \u001b[0mfpath\u001b[0m\u001b[0;34m,\u001b[0m \u001b[0mdl_progress\u001b[0m\u001b[0;34m)\u001b[0m\u001b[0;34m\u001b[0m\u001b[0;34m\u001b[0m\u001b[0m\n\u001b[0m\u001b[1;32m    276\u001b[0m       \u001b[0;32mexcept\u001b[0m \u001b[0mHTTPError\u001b[0m \u001b[0;32mas\u001b[0m \u001b[0me\u001b[0m\u001b[0;34m:\u001b[0m\u001b[0;34m\u001b[0m\u001b[0;34m\u001b[0m\u001b[0m\n\u001b[1;32m    277\u001b[0m         \u001b[0;32mraise\u001b[0m \u001b[0mException\u001b[0m\u001b[0;34m(\u001b[0m\u001b[0merror_msg\u001b[0m\u001b[0;34m.\u001b[0m\u001b[0mformat\u001b[0m\u001b[0;34m(\u001b[0m\u001b[0morigin\u001b[0m\u001b[0;34m,\u001b[0m \u001b[0me\u001b[0m\u001b[0;34m.\u001b[0m\u001b[0mcode\u001b[0m\u001b[0;34m,\u001b[0m \u001b[0me\u001b[0m\u001b[0;34m.\u001b[0m\u001b[0mmsg\u001b[0m\u001b[0;34m)\u001b[0m\u001b[0;34m)\u001b[0m\u001b[0;34m\u001b[0m\u001b[0;34m\u001b[0m\u001b[0m\n",
            "\u001b[0;32m/usr/lib/python3.6/urllib/request.py\u001b[0m in \u001b[0;36murlretrieve\u001b[0;34m(url, filename, reporthook, data)\u001b[0m\n\u001b[1;32m    275\u001b[0m \u001b[0;34m\u001b[0m\u001b[0m\n\u001b[1;32m    276\u001b[0m             \u001b[0;32mwhile\u001b[0m \u001b[0;32mTrue\u001b[0m\u001b[0;34m:\u001b[0m\u001b[0;34m\u001b[0m\u001b[0;34m\u001b[0m\u001b[0m\n\u001b[0;32m--> 277\u001b[0;31m                 \u001b[0mblock\u001b[0m \u001b[0;34m=\u001b[0m \u001b[0mfp\u001b[0m\u001b[0;34m.\u001b[0m\u001b[0mread\u001b[0m\u001b[0;34m(\u001b[0m\u001b[0mbs\u001b[0m\u001b[0;34m)\u001b[0m\u001b[0;34m\u001b[0m\u001b[0;34m\u001b[0m\u001b[0m\n\u001b[0m\u001b[1;32m    278\u001b[0m                 \u001b[0;32mif\u001b[0m \u001b[0;32mnot\u001b[0m \u001b[0mblock\u001b[0m\u001b[0;34m:\u001b[0m\u001b[0;34m\u001b[0m\u001b[0;34m\u001b[0m\u001b[0m\n\u001b[1;32m    279\u001b[0m                     \u001b[0;32mbreak\u001b[0m\u001b[0;34m\u001b[0m\u001b[0;34m\u001b[0m\u001b[0m\n",
            "\u001b[0;32m/usr/lib/python3.6/http/client.py\u001b[0m in \u001b[0;36mread\u001b[0;34m(self, amt)\u001b[0m\n\u001b[1;32m    462\u001b[0m             \u001b[0mb\u001b[0m \u001b[0;34m=\u001b[0m \u001b[0mbytearray\u001b[0m\u001b[0;34m(\u001b[0m\u001b[0mamt\u001b[0m\u001b[0;34m)\u001b[0m\u001b[0;34m\u001b[0m\u001b[0;34m\u001b[0m\u001b[0m\n\u001b[1;32m    463\u001b[0m             \u001b[0mn\u001b[0m \u001b[0;34m=\u001b[0m \u001b[0mself\u001b[0m\u001b[0;34m.\u001b[0m\u001b[0mreadinto\u001b[0m\u001b[0;34m(\u001b[0m\u001b[0mb\u001b[0m\u001b[0;34m)\u001b[0m\u001b[0;34m\u001b[0m\u001b[0;34m\u001b[0m\u001b[0m\n\u001b[0;32m--> 464\u001b[0;31m             \u001b[0;32mreturn\u001b[0m \u001b[0mmemoryview\u001b[0m\u001b[0;34m(\u001b[0m\u001b[0mb\u001b[0m\u001b[0;34m)\u001b[0m\u001b[0;34m[\u001b[0m\u001b[0;34m:\u001b[0m\u001b[0mn\u001b[0m\u001b[0;34m]\u001b[0m\u001b[0;34m.\u001b[0m\u001b[0mtobytes\u001b[0m\u001b[0;34m(\u001b[0m\u001b[0;34m)\u001b[0m\u001b[0;34m\u001b[0m\u001b[0;34m\u001b[0m\u001b[0m\n\u001b[0m\u001b[1;32m    465\u001b[0m         \u001b[0;32melse\u001b[0m\u001b[0;34m:\u001b[0m\u001b[0;34m\u001b[0m\u001b[0;34m\u001b[0m\u001b[0m\n\u001b[1;32m    466\u001b[0m             \u001b[0;31m# Amount is not given (unbounded read) so we must check self.length\u001b[0m\u001b[0;34m\u001b[0m\u001b[0;34m\u001b[0m\u001b[0;34m\u001b[0m\u001b[0m\n",
            "\u001b[0;31mKeyboardInterrupt\u001b[0m: "
          ]
        }
      ]
    },
    {
      "cell_type": "code",
      "metadata": {
        "colab": {
          "base_uri": "https://localhost:8080/"
        },
        "id": "l702BrKdGmXM",
        "outputId": "30851b60-bfac-480d-b224-f1b74f8bf5d4"
      },
      "source": [
        "from google.colab import drive\r\n",
        "drive.mount('/content/gdrive')\r\n",
        "\r\n",
        "import string\r\n",
        "\r\n",
        "# load doc into memory\r\n",
        "def load_doc(filename):\r\n",
        "\t# open the file as read only\r\n",
        "\tfile = open(filename, 'r')\r\n",
        "\t# read all text\r\n",
        "\ttext = file.read()\r\n",
        "\t# close the file\r\n",
        "\tfile.close()\r\n",
        "\treturn text\r\n",
        "\r\n",
        "# extract descriptions for images\r\n",
        "def load_descriptions(doc):\r\n",
        "\tmapping = dict()\r\n",
        "\t# process lines\r\n",
        "\tfor line in doc.split('\\n'):\r\n",
        "\t\t# split line by white space\r\n",
        "\t\ttokens = line.split()\r\n",
        "\t\tif len(line) < 2:\r\n",
        "\t\t\tcontinue\r\n",
        "\t\t# take the first token as the image id, the rest as the description\r\n",
        "\t\timage_id, image_desc = tokens[0], tokens[1:]\r\n",
        "\t\t# remove filename from image id\r\n",
        "\t\timage_id = image_id.split('.')[0]\r\n",
        "\t\t# convert description tokens back to string\r\n",
        "\t\timage_desc = ' '.join(image_desc)\r\n",
        "\t\t# create the list if needed\r\n",
        "\t\tif image_id not in mapping:\r\n",
        "\t\t\tmapping[image_id] = list()\r\n",
        "\t\t# store description\r\n",
        "\t\tmapping[image_id].append(image_desc)\r\n",
        "\treturn mapping\r\n",
        "\r\n",
        "def clean_descriptions(descriptions):\r\n",
        "\t# prepare translation table for removing punctuation\r\n",
        "\ttable = str.maketrans('', '', string.punctuation)\r\n",
        "\tfor key, desc_list in descriptions.items():\r\n",
        "\t\tfor i in range(len(desc_list)):\r\n",
        "\t\t\tdesc = desc_list[i]\r\n",
        "\t\t\t# tokenize\r\n",
        "\t\t\tdesc = desc.split()\r\n",
        "\t\t\t# convert to lower case\r\n",
        "\t\t\tdesc = [word.lower() for word in desc]\r\n",
        "\t\t\t# remove punctuation from each token\r\n",
        "\t\t\tdesc = [w.translate(table) for w in desc]\r\n",
        "\t\t\t# remove hanging 's' and 'a'\r\n",
        "\t\t\tdesc = [word for word in desc if len(word)>1]\r\n",
        "\t\t\t# remove tokens with numbers in them\r\n",
        "\t\t\tdesc = [word for word in desc if word.isalpha()]\r\n",
        "\t\t\t# store as string\r\n",
        "\t\t\tdesc_list[i] =  ' '.join(desc)\r\n",
        "\r\n",
        "# convert the loaded descriptions into a vocabulary of words\r\n",
        "def to_vocabulary(descriptions):\r\n",
        "\t# build a list of all description strings\r\n",
        "\tall_desc = set()\r\n",
        "\tfor key in descriptions.keys():\r\n",
        "\t\t[all_desc.update(d.split()) for d in descriptions[key]]\r\n",
        "\treturn all_desc\r\n",
        "\r\n",
        "# save descriptions to file, one per line\r\n",
        "def save_descriptions(descriptions, filename):\r\n",
        "\tlines = list()\r\n",
        "\tfor key, desc_list in descriptions.items():\r\n",
        "\t\tfor desc in desc_list:\r\n",
        "\t\t\tlines.append(key + ' ' + desc)\r\n",
        "\tdata = '\\n'.join(lines)\r\n",
        "\tfile = open(filename, 'w')\r\n",
        "\tfile.write(data)\r\n",
        "\tfile.close()"
      ],
      "execution_count": 23,
      "outputs": [
        {
          "output_type": "stream",
          "text": [
            "Drive already mounted at /content/gdrive; to attempt to forcibly remount, call drive.mount(\"/content/gdrive\", force_remount=True).\n"
          ],
          "name": "stdout"
        }
      ]
    },
    {
      "cell_type": "code",
      "metadata": {
        "colab": {
          "base_uri": "https://localhost:8080/"
        },
        "id": "qzWuAJcNJ4eX",
        "outputId": "ee6acfea-e73a-4322-9a96-96e0e66f234f"
      },
      "source": [
        "filename = '/content/gdrive/MyDrive/Flickr_text/Flickr8k.token.txt'\r\n",
        "# load descriptions\r\n",
        "doc = load_doc(filename)\r\n",
        "# parse descriptions\r\n",
        "descriptions = load_descriptions(doc)\r\n",
        "print('Loaded: %d ' % len(descriptions))\r\n",
        "# clean descriptions\r\n",
        "clean_descriptions(descriptions)\r\n",
        "# summarize vocabulary\r\n",
        "vocabulary = to_vocabulary(descriptions)\r\n",
        "print('Vocabulary Size: %d' % len(vocabulary))\r\n",
        "# save to file\r\n",
        "save_descriptions(descriptions, 'descriptions.txt')\r\n"
      ],
      "execution_count": 24,
      "outputs": [
        {
          "output_type": "stream",
          "text": [
            "Loaded: 8092 \n",
            "Vocabulary Size: 8763\n"
          ],
          "name": "stdout"
        }
      ]
    },
    {
      "cell_type": "code",
      "metadata": {
        "id": "yr0LmC_zKBlL"
      },
      "source": [
        "from pickle import load\r\n",
        "\r\n",
        "# load doc into memory\r\n",
        "def load_doc(filename):\r\n",
        "\t# open the file as read only\r\n",
        "\tfile = open(filename, 'r')\r\n",
        "\t# read all text\r\n",
        "\ttext = file.read()\r\n",
        "\t# close the file\r\n",
        "\tfile.close()\r\n",
        "\treturn text\r\n",
        "\r\n",
        "# load a pre-defined list of photo identifiers\r\n",
        "def load_set(filename):\r\n",
        "\tdoc = load_doc(filename)\r\n",
        "\tdataset = list()\r\n",
        "\t# process line by line\r\n",
        "\tfor line in doc.split('\\n'):\r\n",
        "\t\t# skip empty lines\r\n",
        "\t\tif len(line) < 1:\r\n",
        "\t\t\tcontinue\r\n",
        "\t\t# get the image identifier\r\n",
        "\t\tidentifier = line.split('.')[0]\r\n",
        "\t\tdataset.append(identifier)\r\n",
        "\treturn set(dataset)\r\n",
        "\r\n",
        "# load clean descriptions into memory\r\n",
        "def load_clean_descriptions(filename, dataset):\r\n",
        "\t# load document\r\n",
        "\tdoc = load_doc(filename)\r\n",
        "\tdescriptions = dict()\r\n",
        "\tfor line in doc.split('\\n'):\r\n",
        "\t\t# split line by white space\r\n",
        "\t\ttokens = line.split()\r\n",
        "\t\t# split id from description\r\n",
        "\t\timage_id, image_desc = tokens[0], tokens[1:]\r\n",
        "\t\t# skip images not in the set\r\n",
        "\t\tif image_id in dataset:\r\n",
        "\t\t\t# create list\r\n",
        "\t\t\tif image_id not in descriptions:\r\n",
        "\t\t\t\tdescriptions[image_id] = list()\r\n",
        "\t\t\t# wrap description in tokens\r\n",
        "\t\t\tdesc = 'startseq ' + ' '.join(image_desc) + ' endseq'\r\n",
        "\t\t\t# store\r\n",
        "\t\t\tdescriptions[image_id].append(desc)\r\n",
        "\treturn descriptions\r\n",
        "\r\n",
        "# load photo features\r\n",
        "def load_photo_features(filename, dataset):\r\n",
        "\t# load all features\r\n",
        "\tall_features = load(open(filename, 'rb'))\r\n",
        "\t# filter features\r\n",
        "\tfeatures = {k: all_features[k] for k in dataset}\r\n",
        "\treturn features"
      ],
      "execution_count": 25,
      "outputs": []
    },
    {
      "cell_type": "code",
      "metadata": {
        "colab": {
          "base_uri": "https://localhost:8080/"
        },
        "id": "X3s4NqQ9KJsf",
        "outputId": "72bba1de-5522-4568-ee47-0157d62d37e1"
      },
      "source": [
        "filename = '/content/gdrive/MyDrive/Flickr_text/Flickr_8k.trainImages.txt'\r\n",
        "train = load_set(filename)\r\n",
        "print('Dataset: %d' % len(train))\r\n",
        "# descriptions\r\n",
        "train_descriptions = load_clean_descriptions('descriptions.txt', train)\r\n",
        "print('Descriptions: train=%d' % len(train_descriptions))\r\n",
        "# photo features\r\n",
        "train_features = load_photo_features('/content/gdrive/MyDrive/my_features.pkl', train)\r\n",
        "print('Photos: train=%d' % len(train_features))"
      ],
      "execution_count": 26,
      "outputs": [
        {
          "output_type": "stream",
          "text": [
            "Dataset: 6000\n",
            "Descriptions: train=6000\n",
            "Photos: train=6000\n"
          ],
          "name": "stdout"
        }
      ]
    },
    {
      "cell_type": "code",
      "metadata": {
        "id": "3MlxsqJsKQet"
      },
      "source": [
        "from numpy import array\r\n",
        "from pickle import load\r\n",
        "from keras.preprocessing.text import Tokenizer\r\n",
        "from keras.preprocessing.sequence import pad_sequences\r\n",
        "from keras.utils import to_categorical\r\n",
        "from keras.utils import plot_model\r\n",
        "from keras.models import Model\r\n",
        "from keras.layers import Input\r\n",
        "from keras.layers import Dense\r\n",
        "from keras.layers import LSTM\r\n",
        "from keras.layers import Embedding\r\n",
        "from keras.layers import Dropout\r\n",
        "from keras.layers.merge import add\r\n",
        "from keras.callbacks import ModelCheckpoint\r\n",
        "\r\n",
        "def to_lines(descriptions):\r\n",
        "\tall_desc = list()\r\n",
        "\tfor key in descriptions.keys():\r\n",
        "\t\t[all_desc.append(d) for d in descriptions[key]]\r\n",
        "\treturn all_desc\r\n",
        "# fit a tokenizer given caption descriptions\r\n",
        "def create_tokenizer(descriptions):\r\n",
        "\tlines = to_lines(descriptions)\r\n",
        "\ttokenizer = Tokenizer()\r\n",
        "\ttokenizer.fit_on_texts(lines)\r\n",
        "\treturn tokenizer\r\n",
        " \r\n",
        "# calculate the length of the description with the most words\r\n",
        "def max_length(descriptions):\r\n",
        "\tlines = to_lines(descriptions)\r\n",
        "\treturn max(len(d.split()) for d in lines)\r\n",
        " \r\n",
        "# create sequences of images, input sequences and output words for an image\r\n",
        "def create_sequences(tokenizer, max_length, desc_list, photo, vocab_size):\r\n",
        "\tX1, X2, y = list(), list(), list()\r\n",
        "\t# walk through each description for the image\r\n",
        "\tfor desc in desc_list:\r\n",
        "\t\t# encode the sequence\r\n",
        "\t\tseq = tokenizer.texts_to_sequences([desc])[0]\r\n",
        "\t\t# split one sequence into multiple X,y pairs\r\n",
        "\t\tfor i in range(1, len(seq)):\r\n",
        "\t\t\t# split into input and output pair\r\n",
        "\t\t\tin_seq, out_seq = seq[:i], seq[i]\r\n",
        "\t\t\t# pad input sequence\r\n",
        "\t\t\tin_seq = pad_sequences([in_seq], maxlen=max_length)[0]\r\n",
        "\t\t\t# encode output sequence\r\n",
        "\t\t\tout_seq = to_categorical([out_seq], num_classes=vocab_size)[0]\r\n",
        "\t\t\t# store\r\n",
        "\t\t\tX1.append(photo)\r\n",
        "\t\t\tX2.append(in_seq)\r\n",
        "\t\t\ty.append(out_seq)\r\n",
        "\treturn array(X1), array(X2), array(y)"
      ],
      "execution_count": 27,
      "outputs": []
    },
    {
      "cell_type": "code",
      "metadata": {
        "id": "IJLQYR_cWJBM"
      },
      "source": [
        "def define_model(vocab_size, max_length):\r\n",
        "\t# feature extractor model\r\n",
        "\tinputs1 = Input(shape=(4096,))\r\n",
        "\tfe1 = Dropout(0.5)(inputs1)\r\n",
        "\tfe2 = Dense(256, activation='relu')(fe1)\r\n",
        "\t# sequence model\r\n",
        "\tinputs2 = Input(shape=(max_length,))\r\n",
        "\tse1 = Embedding(vocab_size, 256, mask_zero=True)(inputs2)\r\n",
        "\tse2 = Dropout(0.5)(se1)\r\n",
        "\tse3 = LSTM(256)(se2)\r\n",
        "\t# decoder model\r\n",
        "\tdecoder1 = add([fe2, se3])\r\n",
        "\tdecoder2 = Dense(256, activation='relu')(decoder1)\r\n",
        "\toutputs = Dense(vocab_size, activation='softmax')(decoder2)\r\n",
        "\t# tie it together [image, seq] [word]\r\n",
        "\tmodel = Model(inputs=[inputs1, inputs2], outputs=outputs)\r\n",
        "\t# compile model\r\n",
        "\tmodel.compile(loss='categorical_crossentropy', optimizer='adam')\r\n",
        "\t# summarize model\r\n",
        "\tmodel.summary()\r\n",
        "\tplot_model(model, to_file='model.png', show_shapes=True)\r\n",
        "\treturn model\r\n",
        " \r\n",
        "# data generator, intended to be used in a call to model.fit_generator()\r\n",
        "def data_generator(descriptions, photos, tokenizer, max_length, vocab_size):\r\n",
        "\t# loop for ever over images\r\n",
        "\twhile 1:\r\n",
        "\t\tfor key, desc_list in descriptions.items():\r\n",
        "\t\t\t# retrieve the photo feature\r\n",
        "\t\t\tphoto = photos[key][0]\r\n",
        "\t\t\tin_img, in_seq, out_word = create_sequences(tokenizer, max_length, desc_list, photo, vocab_size)\r\n",
        "\t\t\tyield [in_img, in_seq], out_word"
      ],
      "execution_count": 28,
      "outputs": []
    },
    {
      "cell_type": "code",
      "metadata": {
        "id": "nRDta-WiWQq9",
        "colab": {
          "base_uri": "https://localhost:8080/"
        },
        "outputId": "38810ca9-cd3b-4f27-f2bb-cc8d2f5e882f"
      },
      "source": [
        "#train_descriptions = load_clean_descriptions('descriptions.txt', train)\r\n",
        "tokenizer = create_tokenizer(train_descriptions)\r\n",
        "vocab_size = len(tokenizer.word_index) + 1\r\n",
        "print('Vocabulary Size: %d' % vocab_size)\r\n",
        "# determine the maximum sequence length\r\n",
        "max_length = max_length(train_descriptions)\r\n",
        "print('Description Length: %d' % max_length)\r\n"
      ],
      "execution_count": 29,
      "outputs": [
        {
          "output_type": "stream",
          "text": [
            "Vocabulary Size: 7579\n",
            "Description Length: 34\n"
          ],
          "name": "stdout"
        }
      ]
    },
    {
      "cell_type": "code",
      "metadata": {
        "colab": {
          "base_uri": "https://localhost:8080/"
        },
        "id": "SGr11cc2Jbc0",
        "outputId": "fd932322-bdff-406b-f13d-b354b358e6e5"
      },
      "source": [
        "model = define_model(vocab_size, max_length)"
      ],
      "execution_count": 30,
      "outputs": [
        {
          "output_type": "stream",
          "text": [
            "Model: \"model_2\"\n",
            "__________________________________________________________________________________________________\n",
            "Layer (type)                    Output Shape         Param #     Connected to                     \n",
            "==================================================================================================\n",
            "input_6 (InputLayer)            [(None, 34)]         0                                            \n",
            "__________________________________________________________________________________________________\n",
            "input_5 (InputLayer)            [(None, 4096)]       0                                            \n",
            "__________________________________________________________________________________________________\n",
            "embedding_1 (Embedding)         (None, 34, 256)      1940224     input_6[0][0]                    \n",
            "__________________________________________________________________________________________________\n",
            "dropout_2 (Dropout)             (None, 4096)         0           input_5[0][0]                    \n",
            "__________________________________________________________________________________________________\n",
            "dropout_3 (Dropout)             (None, 34, 256)      0           embedding_1[0][0]                \n",
            "__________________________________________________________________________________________________\n",
            "dense_3 (Dense)                 (None, 256)          1048832     dropout_2[0][0]                  \n",
            "__________________________________________________________________________________________________\n",
            "lstm_1 (LSTM)                   (None, 256)          525312      dropout_3[0][0]                  \n",
            "__________________________________________________________________________________________________\n",
            "add_1 (Add)                     (None, 256)          0           dense_3[0][0]                    \n",
            "                                                                 lstm_1[0][0]                     \n",
            "__________________________________________________________________________________________________\n",
            "dense_4 (Dense)                 (None, 256)          65792       add_1[0][0]                      \n",
            "__________________________________________________________________________________________________\n",
            "dense_5 (Dense)                 (None, 7579)         1947803     dense_4[0][0]                    \n",
            "==================================================================================================\n",
            "Total params: 5,527,963\n",
            "Trainable params: 5,527,963\n",
            "Non-trainable params: 0\n",
            "__________________________________________________________________________________________________\n"
          ],
          "name": "stdout"
        }
      ]
    },
    {
      "cell_type": "code",
      "metadata": {
        "colab": {
          "base_uri": "https://localhost:8080/",
          "height": 337
        },
        "id": "33TRS9JsnRQt",
        "outputId": "d033c74c-ef97-40a2-91f6-7fa975190caf"
      },
      "source": [
        "epochs = 10\r\n",
        "steps = len(train_descriptions)\r\n",
        "for i in range(epochs):\r\n",
        "\t# create the data generator\r\n",
        "\tgenerator = tuple(data_generator(train_descriptions, train_features, tokenizer, max_length, vocab_size))\r\n",
        " \r\n",
        "\t# fit for one epoch\r\n",
        "\tmodel.fit_generator(generator, epochs=1, steps_per_epoch=steps, verbose=1)\r\n",
        "\t# save model\r\n",
        "\tmodel.save('model_' + str(i) + '.h5')"
      ],
      "execution_count": 31,
      "outputs": [
        {
          "output_type": "error",
          "ename": "KeyboardInterrupt",
          "evalue": "ignored",
          "traceback": [
            "\u001b[0;31m---------------------------------------------------------------------------\u001b[0m",
            "\u001b[0;31mKeyboardInterrupt\u001b[0m                         Traceback (most recent call last)",
            "\u001b[0;32m<ipython-input-31-cc9e9f32b8dd>\u001b[0m in \u001b[0;36m<module>\u001b[0;34m()\u001b[0m\n\u001b[1;32m      3\u001b[0m \u001b[0;32mfor\u001b[0m \u001b[0mi\u001b[0m \u001b[0;32min\u001b[0m \u001b[0mrange\u001b[0m\u001b[0;34m(\u001b[0m\u001b[0mepochs\u001b[0m\u001b[0;34m)\u001b[0m\u001b[0;34m:\u001b[0m\u001b[0;34m\u001b[0m\u001b[0;34m\u001b[0m\u001b[0m\n\u001b[1;32m      4\u001b[0m         \u001b[0;31m# create the data generator\u001b[0m\u001b[0;34m\u001b[0m\u001b[0;34m\u001b[0m\u001b[0;34m\u001b[0m\u001b[0m\n\u001b[0;32m----> 5\u001b[0;31m         \u001b[0mgenerator\u001b[0m \u001b[0;34m=\u001b[0m \u001b[0mtuple\u001b[0m\u001b[0;34m(\u001b[0m\u001b[0mdata_generator\u001b[0m\u001b[0;34m(\u001b[0m\u001b[0mtrain_descriptions\u001b[0m\u001b[0;34m,\u001b[0m \u001b[0mtrain_features\u001b[0m\u001b[0;34m,\u001b[0m \u001b[0mtokenizer\u001b[0m\u001b[0;34m,\u001b[0m \u001b[0mmax_length\u001b[0m\u001b[0;34m,\u001b[0m \u001b[0mvocab_size\u001b[0m\u001b[0;34m)\u001b[0m\u001b[0;34m)\u001b[0m\u001b[0;34m\u001b[0m\u001b[0;34m\u001b[0m\u001b[0m\n\u001b[0m\u001b[1;32m      6\u001b[0m \u001b[0;34m\u001b[0m\u001b[0m\n\u001b[1;32m      7\u001b[0m         \u001b[0;31m# fit for one epoch\u001b[0m\u001b[0;34m\u001b[0m\u001b[0;34m\u001b[0m\u001b[0;34m\u001b[0m\u001b[0m\n",
            "\u001b[0;32m<ipython-input-28-18542d74ed2a>\u001b[0m in \u001b[0;36mdata_generator\u001b[0;34m(descriptions, photos, tokenizer, max_length, vocab_size)\u001b[0m\n\u001b[1;32m     29\u001b[0m                         \u001b[0;31m# retrieve the photo feature\u001b[0m\u001b[0;34m\u001b[0m\u001b[0;34m\u001b[0m\u001b[0;34m\u001b[0m\u001b[0m\n\u001b[1;32m     30\u001b[0m                         \u001b[0mphoto\u001b[0m \u001b[0;34m=\u001b[0m \u001b[0mphotos\u001b[0m\u001b[0;34m[\u001b[0m\u001b[0mkey\u001b[0m\u001b[0;34m]\u001b[0m\u001b[0;34m[\u001b[0m\u001b[0;36m0\u001b[0m\u001b[0;34m]\u001b[0m\u001b[0;34m\u001b[0m\u001b[0;34m\u001b[0m\u001b[0m\n\u001b[0;32m---> 31\u001b[0;31m                         \u001b[0min_img\u001b[0m\u001b[0;34m,\u001b[0m \u001b[0min_seq\u001b[0m\u001b[0;34m,\u001b[0m \u001b[0mout_word\u001b[0m \u001b[0;34m=\u001b[0m \u001b[0mcreate_sequences\u001b[0m\u001b[0;34m(\u001b[0m\u001b[0mtokenizer\u001b[0m\u001b[0;34m,\u001b[0m \u001b[0mmax_length\u001b[0m\u001b[0;34m,\u001b[0m \u001b[0mdesc_list\u001b[0m\u001b[0;34m,\u001b[0m \u001b[0mphoto\u001b[0m\u001b[0;34m,\u001b[0m \u001b[0mvocab_size\u001b[0m\u001b[0;34m)\u001b[0m\u001b[0;34m\u001b[0m\u001b[0;34m\u001b[0m\u001b[0m\n\u001b[0m\u001b[1;32m     32\u001b[0m                         \u001b[0;32myield\u001b[0m \u001b[0;34m[\u001b[0m\u001b[0min_img\u001b[0m\u001b[0;34m,\u001b[0m \u001b[0min_seq\u001b[0m\u001b[0;34m]\u001b[0m\u001b[0;34m,\u001b[0m \u001b[0mout_word\u001b[0m\u001b[0;34m\u001b[0m\u001b[0;34m\u001b[0m\u001b[0m\n",
            "\u001b[0;32m<ipython-input-27-3862eaa5a220>\u001b[0m in \u001b[0;36mcreate_sequences\u001b[0;34m(tokenizer, max_length, desc_list, photo, vocab_size)\u001b[0m\n\u001b[1;32m     50\u001b[0m                         \u001b[0mX2\u001b[0m\u001b[0;34m.\u001b[0m\u001b[0mappend\u001b[0m\u001b[0;34m(\u001b[0m\u001b[0min_seq\u001b[0m\u001b[0;34m)\u001b[0m\u001b[0;34m\u001b[0m\u001b[0;34m\u001b[0m\u001b[0m\n\u001b[1;32m     51\u001b[0m                         \u001b[0my\u001b[0m\u001b[0;34m.\u001b[0m\u001b[0mappend\u001b[0m\u001b[0;34m(\u001b[0m\u001b[0mout_seq\u001b[0m\u001b[0;34m)\u001b[0m\u001b[0;34m\u001b[0m\u001b[0;34m\u001b[0m\u001b[0m\n\u001b[0;32m---> 52\u001b[0;31m         \u001b[0;32mreturn\u001b[0m \u001b[0marray\u001b[0m\u001b[0;34m(\u001b[0m\u001b[0mX1\u001b[0m\u001b[0;34m)\u001b[0m\u001b[0;34m,\u001b[0m \u001b[0marray\u001b[0m\u001b[0;34m(\u001b[0m\u001b[0mX2\u001b[0m\u001b[0;34m)\u001b[0m\u001b[0;34m,\u001b[0m \u001b[0marray\u001b[0m\u001b[0;34m(\u001b[0m\u001b[0my\u001b[0m\u001b[0;34m)\u001b[0m\u001b[0;34m\u001b[0m\u001b[0;34m\u001b[0m\u001b[0m\n\u001b[0m",
            "\u001b[0;31mKeyboardInterrupt\u001b[0m: "
          ]
        }
      ]
    },
    {
      "cell_type": "code",
      "metadata": {
        "id": "MASvVJGunZpe"
      },
      "source": [
        "from pickle import dump\r\n",
        "dump(tokenizer, open('tokenizer.pkl', 'wb'))\r\n",
        "\r\n",
        "from pickle import load\r\n",
        "from numpy import argmax\r\n",
        "from keras.preprocessing.sequence import pad_sequences\r\n",
        "from keras.applications.vgg16 import VGG16\r\n",
        "from keras.preprocessing.image import load_img\r\n",
        "from keras.preprocessing.image import img_to_array\r\n",
        "from keras.applications.vgg16 import preprocess_input\r\n",
        "from keras.models import Model\r\n",
        "from keras.models import load_model\r\n",
        "\r\n",
        "def extract_features(filename):\r\n",
        "\t# load the model\r\n",
        "\tmodel = VGG16()\r\n",
        "\t# re-structure the model\r\n",
        "\tmodel.layers.pop()\r\n",
        "\tmodel = Model(inputs=model.inputs, outputs=model.layers[-1].output)\r\n",
        "\t# load the photo\r\n",
        "\timage = load_img(filename, target_size=(224, 224))\r\n",
        "\t# convert the image pixels to a numpy array\r\n",
        "\timage = img_to_array(image)\r\n",
        "\t# reshape data for the model\r\n",
        "\timage = image.reshape((1, image.shape[0], image.shape[1], image.shape[2]))\r\n",
        "\t# prepare the image for the VGG model\r\n",
        "\timage = preprocess_input(image)\r\n",
        "\t# get features\r\n",
        "\tfeature = model.predict(image, verbose=0)\r\n",
        "\treturn feature\r\n",
        " \r\n",
        "# map an integer to a word\r\n",
        "def word_for_id(integer, tokenizer):\r\n",
        "\tfor word, index in tokenizer.word_index.items():\r\n",
        "\t\tif index == integer:\r\n",
        "\t\t\treturn word\r\n",
        "\treturn None\r\n",
        " \r\n",
        "# generate a description for an image\r\n",
        "def generate_desc(model, tokenizer, photo, max_length):\r\n",
        "\t# seed the generation process\r\n",
        "\tin_text = 'startseq'\r\n",
        "\t# iterate over the whole length of the sequence\r\n",
        "\tfor i in range(max_length):\r\n",
        "\t\t# integer encode input sequence\r\n",
        "\t\tsequence = tokenizer.texts_to_sequences([in_text])[0]\r\n",
        "\t\t# pad input\r\n",
        "\t\tsequence = pad_sequences([sequence], maxlen=max_length)\r\n",
        "\t\t# predict next word\r\n",
        "\t\tyhat = model.predict([photo,sequence], verbose=0)\r\n",
        "\t\t# convert probability to integer\r\n",
        "\t\tyhat = argmax(yhat)\r\n",
        "\t\t# map integer to word\r\n",
        "\t\tword = word_for_id(yhat, tokenizer)\r\n",
        "\t\t# stop if we cannot map the word\r\n",
        "\t\tif word is None:\r\n",
        "\t\t\tbreak\r\n",
        "\t\t# append as input for generating the next word\r\n",
        "\t\tin_text += ' ' + word\r\n",
        "\t\t# stop if we predict the end of the sequence\r\n",
        "\t\tif word == 'endseq':\r\n",
        "\t\t\tbreak\r\n",
        "\treturn in_text"
      ],
      "execution_count": 32,
      "outputs": []
    },
    {
      "cell_type": "code",
      "metadata": {
        "id": "q_C55lUEvwxa"
      },
      "source": [
        "tokenizer = load(open('tokenizer.pkl', 'rb'))\r\n",
        "# pre-define the max sequence length (from training)\r\n",
        "max_length = 34"
      ],
      "execution_count": 33,
      "outputs": []
    },
    {
      "cell_type": "code",
      "metadata": {
        "id": "urFqsWbmxOf3"
      },
      "source": [
        "model = load_model('/content/gdrive/MyDrive/model_9.h5')"
      ],
      "execution_count": 34,
      "outputs": []
    },
    {
      "cell_type": "code",
      "metadata": {
        "colab": {
          "base_uri": "https://localhost:8080/",
          "height": 354
        },
        "id": "OKBXPeO0xtsf",
        "outputId": "59f1f26a-6561-4125-a139-1e8968268fc0"
      },
      "source": [
        "photo = extract_features('/content/gdrive/MyDrive/file.jpg')\r\n",
        "# generate descriptio\r\n",
        "description = generate_desc(model, tokenizer, photo, max_length)\r\n",
        "print(description)\r\n"
      ],
      "execution_count": 37,
      "outputs": [
        {
          "output_type": "error",
          "ename": "KeyboardInterrupt",
          "evalue": "ignored",
          "traceback": [
            "\u001b[0;31m---------------------------------------------------------------------------\u001b[0m",
            "\u001b[0;31mKeyboardInterrupt\u001b[0m                         Traceback (most recent call last)",
            "\u001b[0;32m<ipython-input-37-88dd2a1e9604>\u001b[0m in \u001b[0;36m<module>\u001b[0;34m()\u001b[0m\n\u001b[0;32m----> 1\u001b[0;31m \u001b[0mphoto\u001b[0m \u001b[0;34m=\u001b[0m \u001b[0mextract_features\u001b[0m\u001b[0;34m(\u001b[0m\u001b[0;34m'/content/gdrive/MyDrive/file.jpg'\u001b[0m\u001b[0;34m)\u001b[0m\u001b[0;34m\u001b[0m\u001b[0;34m\u001b[0m\u001b[0m\n\u001b[0m\u001b[1;32m      2\u001b[0m \u001b[0;31m# generate descriptio\u001b[0m\u001b[0;34m\u001b[0m\u001b[0;34m\u001b[0m\u001b[0;34m\u001b[0m\u001b[0m\n\u001b[1;32m      3\u001b[0m \u001b[0mdescription\u001b[0m \u001b[0;34m=\u001b[0m \u001b[0mgenerate_desc\u001b[0m\u001b[0;34m(\u001b[0m\u001b[0mmodel\u001b[0m\u001b[0;34m,\u001b[0m \u001b[0mtokenizer\u001b[0m\u001b[0;34m,\u001b[0m \u001b[0mphoto\u001b[0m\u001b[0;34m,\u001b[0m \u001b[0mmax_length\u001b[0m\u001b[0;34m)\u001b[0m\u001b[0;34m\u001b[0m\u001b[0;34m\u001b[0m\u001b[0m\n\u001b[1;32m      4\u001b[0m \u001b[0mprint\u001b[0m\u001b[0;34m(\u001b[0m\u001b[0mdescription\u001b[0m\u001b[0;34m)\u001b[0m\u001b[0;34m\u001b[0m\u001b[0;34m\u001b[0m\u001b[0m\n",
            "\u001b[0;32m<ipython-input-32-c41480040442>\u001b[0m in \u001b[0;36mextract_features\u001b[0;34m(filename)\u001b[0m\n\u001b[1;32m     27\u001b[0m         \u001b[0mimage\u001b[0m \u001b[0;34m=\u001b[0m \u001b[0mpreprocess_input\u001b[0m\u001b[0;34m(\u001b[0m\u001b[0mimage\u001b[0m\u001b[0;34m)\u001b[0m\u001b[0;34m\u001b[0m\u001b[0;34m\u001b[0m\u001b[0m\n\u001b[1;32m     28\u001b[0m         \u001b[0;31m# get features\u001b[0m\u001b[0;34m\u001b[0m\u001b[0;34m\u001b[0m\u001b[0;34m\u001b[0m\u001b[0m\n\u001b[0;32m---> 29\u001b[0;31m         \u001b[0mfeature\u001b[0m \u001b[0;34m=\u001b[0m \u001b[0mmodel\u001b[0m\u001b[0;34m.\u001b[0m\u001b[0mpredict\u001b[0m\u001b[0;34m(\u001b[0m\u001b[0mimage\u001b[0m\u001b[0;34m,\u001b[0m \u001b[0mverbose\u001b[0m\u001b[0;34m=\u001b[0m\u001b[0;36m0\u001b[0m\u001b[0;34m)\u001b[0m\u001b[0;34m\u001b[0m\u001b[0;34m\u001b[0m\u001b[0m\n\u001b[0m\u001b[1;32m     30\u001b[0m         \u001b[0;32mreturn\u001b[0m \u001b[0mfeature\u001b[0m\u001b[0;34m\u001b[0m\u001b[0;34m\u001b[0m\u001b[0m\n\u001b[1;32m     31\u001b[0m \u001b[0;34m\u001b[0m\u001b[0m\n",
            "\u001b[0;32m/usr/local/lib/python3.6/dist-packages/tensorflow/python/keras/engine/training.py\u001b[0m in \u001b[0;36mpredict\u001b[0;34m(self, x, batch_size, verbose, steps, callbacks, max_queue_size, workers, use_multiprocessing)\u001b[0m\n\u001b[1;32m   1627\u001b[0m           \u001b[0;32mfor\u001b[0m \u001b[0mstep\u001b[0m \u001b[0;32min\u001b[0m \u001b[0mdata_handler\u001b[0m\u001b[0;34m.\u001b[0m\u001b[0msteps\u001b[0m\u001b[0;34m(\u001b[0m\u001b[0;34m)\u001b[0m\u001b[0;34m:\u001b[0m\u001b[0;34m\u001b[0m\u001b[0;34m\u001b[0m\u001b[0m\n\u001b[1;32m   1628\u001b[0m             \u001b[0mcallbacks\u001b[0m\u001b[0;34m.\u001b[0m\u001b[0mon_predict_batch_begin\u001b[0m\u001b[0;34m(\u001b[0m\u001b[0mstep\u001b[0m\u001b[0;34m)\u001b[0m\u001b[0;34m\u001b[0m\u001b[0;34m\u001b[0m\u001b[0m\n\u001b[0;32m-> 1629\u001b[0;31m             \u001b[0mtmp_batch_outputs\u001b[0m \u001b[0;34m=\u001b[0m \u001b[0mself\u001b[0m\u001b[0;34m.\u001b[0m\u001b[0mpredict_function\u001b[0m\u001b[0;34m(\u001b[0m\u001b[0miterator\u001b[0m\u001b[0;34m)\u001b[0m\u001b[0;34m\u001b[0m\u001b[0;34m\u001b[0m\u001b[0m\n\u001b[0m\u001b[1;32m   1630\u001b[0m             \u001b[0;32mif\u001b[0m \u001b[0mdata_handler\u001b[0m\u001b[0;34m.\u001b[0m\u001b[0mshould_sync\u001b[0m\u001b[0;34m:\u001b[0m\u001b[0;34m\u001b[0m\u001b[0;34m\u001b[0m\u001b[0m\n\u001b[1;32m   1631\u001b[0m               \u001b[0mcontext\u001b[0m\u001b[0;34m.\u001b[0m\u001b[0masync_wait\u001b[0m\u001b[0;34m(\u001b[0m\u001b[0;34m)\u001b[0m\u001b[0;34m\u001b[0m\u001b[0;34m\u001b[0m\u001b[0m\n",
            "\u001b[0;32m/usr/local/lib/python3.6/dist-packages/tensorflow/python/eager/def_function.py\u001b[0m in \u001b[0;36m__call__\u001b[0;34m(self, *args, **kwds)\u001b[0m\n\u001b[1;32m    826\u001b[0m     \u001b[0mtracing_count\u001b[0m \u001b[0;34m=\u001b[0m \u001b[0mself\u001b[0m\u001b[0;34m.\u001b[0m\u001b[0mexperimental_get_tracing_count\u001b[0m\u001b[0;34m(\u001b[0m\u001b[0;34m)\u001b[0m\u001b[0;34m\u001b[0m\u001b[0;34m\u001b[0m\u001b[0m\n\u001b[1;32m    827\u001b[0m     \u001b[0;32mwith\u001b[0m \u001b[0mtrace\u001b[0m\u001b[0;34m.\u001b[0m\u001b[0mTrace\u001b[0m\u001b[0;34m(\u001b[0m\u001b[0mself\u001b[0m\u001b[0;34m.\u001b[0m\u001b[0m_name\u001b[0m\u001b[0;34m)\u001b[0m \u001b[0;32mas\u001b[0m \u001b[0mtm\u001b[0m\u001b[0;34m:\u001b[0m\u001b[0;34m\u001b[0m\u001b[0;34m\u001b[0m\u001b[0m\n\u001b[0;32m--> 828\u001b[0;31m       \u001b[0mresult\u001b[0m \u001b[0;34m=\u001b[0m \u001b[0mself\u001b[0m\u001b[0;34m.\u001b[0m\u001b[0m_call\u001b[0m\u001b[0;34m(\u001b[0m\u001b[0;34m*\u001b[0m\u001b[0margs\u001b[0m\u001b[0;34m,\u001b[0m \u001b[0;34m**\u001b[0m\u001b[0mkwds\u001b[0m\u001b[0;34m)\u001b[0m\u001b[0;34m\u001b[0m\u001b[0;34m\u001b[0m\u001b[0m\n\u001b[0m\u001b[1;32m    829\u001b[0m       \u001b[0mcompiler\u001b[0m \u001b[0;34m=\u001b[0m \u001b[0;34m\"xla\"\u001b[0m \u001b[0;32mif\u001b[0m \u001b[0mself\u001b[0m\u001b[0;34m.\u001b[0m\u001b[0m_experimental_compile\u001b[0m \u001b[0;32melse\u001b[0m \u001b[0;34m\"nonXla\"\u001b[0m\u001b[0;34m\u001b[0m\u001b[0;34m\u001b[0m\u001b[0m\n\u001b[1;32m    830\u001b[0m       \u001b[0mnew_tracing_count\u001b[0m \u001b[0;34m=\u001b[0m \u001b[0mself\u001b[0m\u001b[0;34m.\u001b[0m\u001b[0mexperimental_get_tracing_count\u001b[0m\u001b[0;34m(\u001b[0m\u001b[0;34m)\u001b[0m\u001b[0;34m\u001b[0m\u001b[0;34m\u001b[0m\u001b[0m\n",
            "\u001b[0;32m/usr/local/lib/python3.6/dist-packages/tensorflow/python/eager/def_function.py\u001b[0m in \u001b[0;36m_call\u001b[0;34m(self, *args, **kwds)\u001b[0m\n\u001b[1;32m    893\u001b[0m       \u001b[0;31m# If we did not create any variables the trace we have is good enough.\u001b[0m\u001b[0;34m\u001b[0m\u001b[0;34m\u001b[0m\u001b[0;34m\u001b[0m\u001b[0m\n\u001b[1;32m    894\u001b[0m       return self._concrete_stateful_fn._call_flat(\n\u001b[0;32m--> 895\u001b[0;31m           filtered_flat_args, self._concrete_stateful_fn.captured_inputs)  # pylint: disable=protected-access\n\u001b[0m\u001b[1;32m    896\u001b[0m \u001b[0;34m\u001b[0m\u001b[0m\n\u001b[1;32m    897\u001b[0m     \u001b[0;32mdef\u001b[0m \u001b[0mfn_with_cond\u001b[0m\u001b[0;34m(\u001b[0m\u001b[0minner_args\u001b[0m\u001b[0;34m,\u001b[0m \u001b[0minner_kwds\u001b[0m\u001b[0;34m,\u001b[0m \u001b[0minner_filtered_flat_args\u001b[0m\u001b[0;34m)\u001b[0m\u001b[0;34m:\u001b[0m\u001b[0;34m\u001b[0m\u001b[0;34m\u001b[0m\u001b[0m\n",
            "\u001b[0;32m/usr/local/lib/python3.6/dist-packages/tensorflow/python/eager/function.py\u001b[0m in \u001b[0;36m_call_flat\u001b[0;34m(self, args, captured_inputs, cancellation_manager)\u001b[0m\n\u001b[1;32m   1917\u001b[0m       \u001b[0;31m# No tape is watching; skip to running the function.\u001b[0m\u001b[0;34m\u001b[0m\u001b[0;34m\u001b[0m\u001b[0;34m\u001b[0m\u001b[0m\n\u001b[1;32m   1918\u001b[0m       return self._build_call_outputs(self._inference_function.call(\n\u001b[0;32m-> 1919\u001b[0;31m           ctx, args, cancellation_manager=cancellation_manager))\n\u001b[0m\u001b[1;32m   1920\u001b[0m     forward_backward = self._select_forward_and_backward_functions(\n\u001b[1;32m   1921\u001b[0m         \u001b[0margs\u001b[0m\u001b[0;34m,\u001b[0m\u001b[0;34m\u001b[0m\u001b[0;34m\u001b[0m\u001b[0m\n",
            "\u001b[0;32m/usr/local/lib/python3.6/dist-packages/tensorflow/python/eager/function.py\u001b[0m in \u001b[0;36mcall\u001b[0;34m(self, ctx, args, cancellation_manager)\u001b[0m\n\u001b[1;32m    558\u001b[0m               \u001b[0minputs\u001b[0m\u001b[0;34m=\u001b[0m\u001b[0margs\u001b[0m\u001b[0;34m,\u001b[0m\u001b[0;34m\u001b[0m\u001b[0;34m\u001b[0m\u001b[0m\n\u001b[1;32m    559\u001b[0m               \u001b[0mattrs\u001b[0m\u001b[0;34m=\u001b[0m\u001b[0mattrs\u001b[0m\u001b[0;34m,\u001b[0m\u001b[0;34m\u001b[0m\u001b[0;34m\u001b[0m\u001b[0m\n\u001b[0;32m--> 560\u001b[0;31m               ctx=ctx)\n\u001b[0m\u001b[1;32m    561\u001b[0m         \u001b[0;32melse\u001b[0m\u001b[0;34m:\u001b[0m\u001b[0;34m\u001b[0m\u001b[0;34m\u001b[0m\u001b[0m\n\u001b[1;32m    562\u001b[0m           outputs = execute.execute_with_cancellation(\n",
            "\u001b[0;32m/usr/local/lib/python3.6/dist-packages/tensorflow/python/eager/execute.py\u001b[0m in \u001b[0;36mquick_execute\u001b[0;34m(op_name, num_outputs, inputs, attrs, ctx, name)\u001b[0m\n\u001b[1;32m     58\u001b[0m     \u001b[0mctx\u001b[0m\u001b[0;34m.\u001b[0m\u001b[0mensure_initialized\u001b[0m\u001b[0;34m(\u001b[0m\u001b[0;34m)\u001b[0m\u001b[0;34m\u001b[0m\u001b[0;34m\u001b[0m\u001b[0m\n\u001b[1;32m     59\u001b[0m     tensors = pywrap_tfe.TFE_Py_Execute(ctx._handle, device_name, op_name,\n\u001b[0;32m---> 60\u001b[0;31m                                         inputs, attrs, num_outputs)\n\u001b[0m\u001b[1;32m     61\u001b[0m   \u001b[0;32mexcept\u001b[0m \u001b[0mcore\u001b[0m\u001b[0;34m.\u001b[0m\u001b[0m_NotOkStatusException\u001b[0m \u001b[0;32mas\u001b[0m \u001b[0me\u001b[0m\u001b[0;34m:\u001b[0m\u001b[0;34m\u001b[0m\u001b[0;34m\u001b[0m\u001b[0m\n\u001b[1;32m     62\u001b[0m     \u001b[0;32mif\u001b[0m \u001b[0mname\u001b[0m \u001b[0;32mis\u001b[0m \u001b[0;32mnot\u001b[0m \u001b[0;32mNone\u001b[0m\u001b[0;34m:\u001b[0m\u001b[0;34m\u001b[0m\u001b[0;34m\u001b[0m\u001b[0m\n",
            "\u001b[0;31mKeyboardInterrupt\u001b[0m: "
          ]
        }
      ]
    },
    {
      "cell_type": "code",
      "metadata": {
        "id": "51rAaPu9x3Hq"
      },
      "source": [
        ""
      ],
      "execution_count": null,
      "outputs": []
    },
    {
      "cell_type": "code",
      "metadata": {
        "colab": {
          "base_uri": "https://localhost:8080/"
        },
        "id": "3UbIg7hR09xg",
        "outputId": "0b146bce-ca67-4fb8-d982-9b2f962091d3"
      },
      "source": [
        ""
      ],
      "execution_count": null,
      "outputs": [
        {
          "output_type": "stream",
          "text": [
            "Dataset: 6000\n",
            "Descriptions: train=6000\n",
            "Photos: train=6000\n",
            "Vocabulary Size: 7579\n",
            "Description Length: 34\n"
          ],
          "name": "stdout"
        }
      ]
    },
    {
      "cell_type": "code",
      "metadata": {
        "colab": {
          "base_uri": "https://localhost:8080/"
        },
        "id": "zmFMfp5S1LnU",
        "outputId": "6556e45b-16a6-48cc-b503-e9385a8a1e70"
      },
      "source": [
        ""
      ],
      "execution_count": null,
      "outputs": [
        {
          "output_type": "stream",
          "text": [
            "Model: \"model_1\"\n",
            "__________________________________________________________________________________________________\n",
            "Layer (type)                    Output Shape         Param #     Connected to                     \n",
            "==================================================================================================\n",
            "input_4 (InputLayer)            [(None, 34)]         0                                            \n",
            "__________________________________________________________________________________________________\n",
            "input_3 (InputLayer)            [(None, 4096)]       0                                            \n",
            "__________________________________________________________________________________________________\n",
            "embedding_1 (Embedding)         (None, 34, 256)      1940224     input_4[0][0]                    \n",
            "__________________________________________________________________________________________________\n",
            "dropout_2 (Dropout)             (None, 4096)         0           input_3[0][0]                    \n",
            "__________________________________________________________________________________________________\n",
            "dropout_3 (Dropout)             (None, 34, 256)      0           embedding_1[0][0]                \n",
            "__________________________________________________________________________________________________\n",
            "dense_3 (Dense)                 (None, 256)          1048832     dropout_2[0][0]                  \n",
            "__________________________________________________________________________________________________\n",
            "lstm_1 (LSTM)                   (None, 256)          525312      dropout_3[0][0]                  \n",
            "__________________________________________________________________________________________________\n",
            "add_1 (Add)                     (None, 256)          0           dense_3[0][0]                    \n",
            "                                                                 lstm_1[0][0]                     \n",
            "__________________________________________________________________________________________________\n",
            "dense_4 (Dense)                 (None, 256)          65792       add_1[0][0]                      \n",
            "__________________________________________________________________________________________________\n",
            "dense_5 (Dense)                 (None, 7579)         1947803     dense_4[0][0]                    \n",
            "==================================================================================================\n",
            "Total params: 5,527,963\n",
            "Trainable params: 5,527,963\n",
            "Non-trainable params: 0\n",
            "__________________________________________________________________________________________________\n"
          ],
          "name": "stdout"
        }
      ]
    },
    {
      "cell_type": "code",
      "metadata": {
        "colab": {
          "base_uri": "https://localhost:8080/",
          "height": 229
        },
        "id": "sZG6FfDD12ze",
        "outputId": "bb91e112-4a6d-40e8-ae99-b5b33165b7eb"
      },
      "source": [
        ""
      ],
      "execution_count": null,
      "outputs": [
        {
          "output_type": "error",
          "ename": "NameError",
          "evalue": "ignored",
          "traceback": [
            "\u001b[0;31m---------------------------------------------------------------------------\u001b[0m",
            "\u001b[0;31mNameError\u001b[0m                                 Traceback (most recent call last)",
            "\u001b[0;32m<ipython-input-2-627e1f54d5ff>\u001b[0m in \u001b[0;36m<module>\u001b[0;34m()\u001b[0m\n\u001b[1;32m      1\u001b[0m \u001b[0mepochs\u001b[0m \u001b[0;34m=\u001b[0m \u001b[0;36m5\u001b[0m\u001b[0;34m\u001b[0m\u001b[0;34m\u001b[0m\u001b[0m\n\u001b[0;32m----> 2\u001b[0;31m \u001b[0msteps\u001b[0m \u001b[0;34m=\u001b[0m \u001b[0mlen\u001b[0m\u001b[0;34m(\u001b[0m\u001b[0mtrain_descriptions\u001b[0m\u001b[0;34m)\u001b[0m\u001b[0;34m\u001b[0m\u001b[0;34m\u001b[0m\u001b[0m\n\u001b[0m\u001b[1;32m      3\u001b[0m \u001b[0;32mfor\u001b[0m \u001b[0mi\u001b[0m \u001b[0;32min\u001b[0m \u001b[0mrange\u001b[0m\u001b[0;34m(\u001b[0m\u001b[0mepochs\u001b[0m\u001b[0;34m)\u001b[0m\u001b[0;34m:\u001b[0m\u001b[0;34m\u001b[0m\u001b[0;34m\u001b[0m\u001b[0m\n\u001b[1;32m      4\u001b[0m         \u001b[0;31m# create the data generator\u001b[0m\u001b[0;34m\u001b[0m\u001b[0;34m\u001b[0m\u001b[0;34m\u001b[0m\u001b[0m\n\u001b[1;32m      5\u001b[0m         \u001b[0mgenerator\u001b[0m \u001b[0;34m=\u001b[0m \u001b[0mtuple\u001b[0m\u001b[0;34m(\u001b[0m\u001b[0mdata_generator\u001b[0m\u001b[0;34m(\u001b[0m\u001b[0mtrain_descriptions\u001b[0m\u001b[0;34m,\u001b[0m \u001b[0mtrain_features\u001b[0m\u001b[0;34m,\u001b[0m \u001b[0mtokenizer\u001b[0m\u001b[0;34m,\u001b[0m \u001b[0;36m10\u001b[0m\u001b[0;34m,\u001b[0m \u001b[0mvocab_size\u001b[0m\u001b[0;34m)\u001b[0m\u001b[0;34m)\u001b[0m\u001b[0;34m\u001b[0m\u001b[0;34m\u001b[0m\u001b[0m\n",
            "\u001b[0;31mNameError\u001b[0m: name 'train_descriptions' is not defined"
          ]
        }
      ]
    },
    {
      "cell_type": "code",
      "metadata": {
        "id": "ulUDtrEA18DW"
      },
      "source": [
        ""
      ],
      "execution_count": null,
      "outputs": []
    }
  ]
}